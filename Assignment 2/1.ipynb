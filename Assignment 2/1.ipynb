from sklearn.datasets import load_iris
from sklearn.feature_selection import SelectKBest, chi2
import pandas as pd

# Загрузка набора данных Iris
iris = load_iris()

# Разделение на признаки (X) и целевую переменную (y)
X = iris.data
y = iris.target

# Применение SelectKBest с функцией chi2 для выбора 2 лучших признаков
selector = SelectKBest(score_func=chi2, k=2)
X_new = selector.fit_transform(X, y)

# Получение имен выбранных признаков
selected_features = selector.get_support(indices=True)
feature_names = [iris.feature_names[i] for i in selected_features]

# Печать имен выбранных признаков
print("Selected feature names:", feature_names)
