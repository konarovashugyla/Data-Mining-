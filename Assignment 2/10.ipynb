from sklearn.datasets import load_boston
from sklearn.model_selection import train_test_split
from sklearn.tree import DecisionTreeRegressor, plot_tree
from sklearn.metrics import mean_squared_error
import matplotlib.pyplot as plt

# Шаг 1: Загрузка набора данных Boston Housing
boston = load_boston()

# Шаг 2: Разделение на обучающие и тестовые данные
X_train, X_test, y_train, y_test = train_test_split(boston.data, boston.target, test_size=0.3, random_state=42)

# Шаг 3: Обучение модели Decision Tree
dt_reg = DecisionTreeRegressor(random_state=42)
dt_reg.fit(X_train, y_train)

# Шаг 4: Оценка производительности модели
y_pred = dt_reg.predict(X_test)
mse = mean_squared_error(y_test, y_pred)

print(f"Mean Squared Error: {mse}")

# Визуализация дерева решений
plt.figure(figsize=(12,8))
plot_tree(dt_reg, filled=True, feature_names=boston.feature_names)
plt.show()
