from sklearn.datasets import load_iris
from sklearn.model_selection import train_test_split
from sklearn.linear_model import LogisticRegression
from sklearn.metrics import accuracy_score, confusion_matrix

# Шаг 1: Загрузка набора данных Iris
iris = load_iris()

# Шаг 2: Разделение на обучающие и тестовые данные
X_train, X_test, y_train, y_test = train_test_split(iris.data, iris.target, test_size=0.3, random_state=42)

# Шаг 3: Обучение модели логистической регрессии
logreg = LogisticRegression(max_iter=200)
logreg.fit(X_train, y_train)

# Шаг 4: Оценка производительности модели
y_pred = logreg.predict(X_test)

accuracy = accuracy_score(y_test, y_pred)
conf_matrix = confusion_matrix(y_test, y_pred)

print(f"Accuracy: {accuracy}")
print("Confusion Matrix:\n", conf_matrix)
