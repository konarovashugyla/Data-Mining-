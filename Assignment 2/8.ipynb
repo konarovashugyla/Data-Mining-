from sklearn.datasets import load_boston
from sklearn.model_selection import train_test_split
from sklearn.linear_model import LinearRegression
from sklearn.metrics import mean_squared_error, r2_score

# Шаг 1: Загрузка набора данных Boston Housing
boston = load_boston()

# Шаг 2: Разделение на обучающие и тестовые данные
X_train, X_test, y_train, y_test = train_test_split(boston.data, boston.target, test_size=0.3, random_state=42)

# Шаг 3: Обучение модели линейной регрессии
lr = LinearRegression()
lr.fit(X_train, y_train)

# Шаг 4: Оценка производительности модели
y_pred = lr.predict(X_test)

mse = mean_squared_error(y_test, y_pred)
r2 = r2_score(y_test, y_pred)

print(f"Mean Squared Error: {mse}")
print(f"R-squared: {r2}")
