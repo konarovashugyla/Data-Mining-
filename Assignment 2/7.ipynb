from sklearn.datasets import load_wine
from sklearn.model_selection import train_test_split
from sklearn.tree import DecisionTreeClassifier, plot_tree
import matplotlib.pyplot as plt

# Шаг 1: Загрузка набора данных Wine
wine = load_wine()

# Шаг 2: Разделение на обучающие и тестовые данные
X_train, X_test, y_train, y_test = train_test_split(wine.data, wine.target, test_size=0.3, random_state=42)

# Шаг 3: Обучение модели Decision Tree
dt = DecisionTreeClassifier(random_state=42)
dt.fit(X_train, y_train)

# Шаг 4: Визуализация дерева решений
plt.figure(figsize=(12,8))
plot_tree(dt, filled=True, feature_names=wine.feature_names, class_names=wine.target_names)
plt.show()
