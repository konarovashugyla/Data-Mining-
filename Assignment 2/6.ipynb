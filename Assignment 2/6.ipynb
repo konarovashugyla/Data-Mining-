from sklearn.datasets import load_breast_cancer
from sklearn.model_selection import train_test_split
from sklearn.svm import SVC
from sklearn.metrics import accuracy_score, confusion_matrix

# Шаг 1: Загрузка набора данных Breast Cancer
breast_cancer = load_breast_cancer()

# Шаг 2: Разделение на обучающие и тестовые данные
X_train, X_test, y_train, y_test = train_test_split(breast_cancer.data, breast_cancer.target, test_size=0.3, random_state=42)

# Шаг 3: Обучение модели SVM
svm = SVC(kernel="linear")
svm.fit(X_train, y_train)

# Шаг 4: Оценка производительности модели
y_pred = svm.predict(X_test)

accuracy = accuracy_score(y_test, y_pred)
conf_matrix = confusion_matrix(y_test, y_pred)

print(f"Accuracy: {accuracy}")
print("Confusion Matrix:\n", conf_matrix)
