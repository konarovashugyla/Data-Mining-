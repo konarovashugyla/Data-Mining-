from sklearn.datasets import load_diabetes
from sklearn.model_selection import train_test_split
from sklearn.linear_model import Lasso
from sklearn.metrics import mean_squared_error, r2_score

# Загрузка набора данных Diabetes
diabetes = load_diabetes()

# Разделение на обучающие и тестовые данные
X_train, X_test, y_train, y_test = train_test_split(diabetes.data, diabetes.target, test_size=0.3, random_state=42)

# Применение Lasso для выбора признаков
lasso = Lasso(alpha=0.1)
lasso.fit(X_train, y_train)

# Выбор значимых признаков
selected_features = lasso.coef_ != 0
X_train_lasso = X_train[:, selected_features]
X_test_lasso = X_test[:, selected_features]

# Обучение модели с выбранными признаками
lasso.fit(X_train_lasso, y_train)
y_pred = lasso.predict(X_test_lasso)

# Оценка производительности модели
mse = mean_squared_error(y_test, y_pred)
r2 = r2_score(y_test, y_pred)

print("Mean Squared Error:", mse)
print("R-squared:", r2)
